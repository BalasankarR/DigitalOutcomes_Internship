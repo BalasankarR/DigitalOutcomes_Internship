{
 "cells": [
  {
   "cell_type": "code",
   "execution_count": 1,
   "metadata": {},
   "outputs": [],
   "source": [
    "import ast\n",
    "import csv\n",
    "import re\n",
    "import pandas as pd\n",
    "import requests\n",
    "import html\n",
    "import json"
   ]
  },
  {
   "cell_type": "code",
   "execution_count": 2,
   "metadata": {},
   "outputs": [],
   "source": [
    "headers = {\n",
    "    \"clientID\" : \"1g0195d428oi204f274g\",\n",
    "    \"clientSecret\" : \"efbr0e5jlpjuj5ibn2ugfmpi7b573uqsn1h6voi1rmn1d5p8t2kk9o2e38aj\",\n",
    "    \"grantType\" : \"cred\",\n",
    "}\n",
    "\n",
    "api_url = \"https://login.insideview.com/Auth/login/v1/token.json\"\n",
    "response = requests.post(api_url, data = {'clientId' : '1g0195d428oi204f274g', 'clientSecret' : 'efbr0e5jlpjuj5ibn2ugfmpi7b573uqsn1h6voi1rmn1d5p8t2kk9o2e38aj','grantType' : 'cred'}).json()\n",
    "access_token = response[\"accessTokenDetails\"][\"accessToken\"]"
   ]
  },
  {
   "cell_type": "code",
   "execution_count": 3,
   "metadata": {},
   "outputs": [],
   "source": [
    "headers = {\n",
    "    \"Accept\": \"application/json\",\n",
    "    \"accessToken\" : access_token,\n",
    "}"
   ]
  },
  {
   "cell_type": "code",
   "execution_count": 4,
   "metadata": {},
   "outputs": [],
   "source": [
    "api_url = \"https://api.insideview.com/api/v1/target/companies\"\n",
    "index = []\n",
    "comp = []\n",
    "for i in range(2):\n",
    "    response = requests.post(api_url, headers=headers, data = {\"fortuneRanking\" : \"fortune1000\",\"resultsPerPage\" : 500,'page' : i+1}).json()\n",
    "    companies_id_list = response[\"companies\"]\n",
    "    for j in companies_id_list:\n",
    "        index.append(int(j['companyId']))\n",
    "        comp.append(j['name'])"
   ]
  },
  {
   "cell_type": "markdown",
   "metadata": {},
   "source": [
    "#### The following code is to get the Contact Details of the Microsoft CEO Satya Nadella"
   ]
  },
  {
   "cell_type": "code",
   "execution_count": 5,
   "metadata": {},
   "outputs": [],
   "source": [
    "contact_list_url = \"https://api.insideview.com/api/v1/target/contacts\"\n",
    "t = []\n",
    "n = []\n",
    "p = []\n",
    "\n",
    "#for i in range(len(comp)):\n",
    "for i in range(1):\n",
    "    title = []\n",
    "    names = []\n",
    "    people_id = []\n",
    "    \n",
    "    idx = index[i]\n",
    "    name = comp[i]\n",
    "    \n",
    "    r = requests.post(contact_list_url,headers = headers,data = {'jobLevels' : ['1'], 'companyName' : name, 'fortuneRanking' : 'fortune1000', 'resultsPerPage' : 50}).json()\n",
    "    \n",
    "    if(int(r['totalResults']) == 0):\n",
    "        t.append(title)\n",
    "        n.append(names)\n",
    "        p.append(people_id)\n",
    "        continue\n",
    "    \n",
    "    for dict in r['contacts']:\n",
    "        title.append(dict['titles'][0])\n",
    "        names.append(dict['fullName'])\n",
    "        people_id.append(dict['id'])\n",
    "\n",
    "    no = int(r['totalResults'])//50\n",
    "    \n",
    "    if(int(r['totalResults'])%50 == 0):\n",
    "        no = no - 1\n",
    "        \n",
    "    if(no == 0):\n",
    "        t.append(title)\n",
    "        n.append(names)\n",
    "        p.append(people_id)\n",
    "    else:\n",
    "        for i in range(no):\n",
    "            r = requests.post(contact_list_url,headers = headers,data = {'jobLevels' : ['1'], 'companyName' : name, 'fortuneRanking' : 'fortune1000', 'resultsPerPage' : 50, 'page' : i+2}).json()\n",
    "            for dict in r['contacts']:\n",
    "                title.append(dict['titles'][0])\n",
    "                names.append(dict['fullName'])\n",
    "                people_id.append(dict['id'])\n",
    "        \n",
    "        t.append(title)\n",
    "        n.append(names)\n",
    "        p.append(people_id)\n",
    "\n",
    "df = pd.DataFrame(list(zip(comp,t,n,p)), columns =['companyName', 'Title', 'Employees', 'InsideView Contact ID'])"
   ]
  },
  {
   "cell_type": "code",
   "execution_count": 6,
   "metadata": {},
   "outputs": [
    {
     "name": "stdout",
     "output_type": "stream",
     "text": [
      "532\n",
      "532\n",
      "532\n"
     ]
    }
   ],
   "source": [
    "print(len(t[0]))\n",
    "print(len(n[0]))\n",
    "print(len(p[0]))"
   ]
  },
  {
   "cell_type": "code",
   "execution_count": 7,
   "metadata": {},
   "outputs": [
    {
     "name": "stdout",
     "output_type": "stream",
     "text": [
      "22 fg6as7sZZI8FCIWhGfZN6uKJxVEzARzSYeH1cWoDMshEO0CbNtoEQv3hzq2GsTyb\n",
      "30 HAFmplLteuIoTIKzg2YMgzIWm3YnnmpFokJPhp7TvXW4WkTqUMEkOrD1qOVifhWJ\n"
     ]
    }
   ],
   "source": [
    "for i in range(len(n[0])):\n",
    "    if(n[0][i] == \"Satya Nadella\"):\n",
    "        print(\"{} {}\".format(i,p[0][i]))"
   ]
  },
  {
   "cell_type": "code",
   "execution_count": 9,
   "metadata": {},
   "outputs": [],
   "source": [
    "new_contact_url = \"https://api.insideview.com/api/v1/target/contact/{}\"\n",
    "satya_nadella_id = p[0][22]\n",
    "satya_nadella_url = new_contact_url.format(satya_nadella_id)"
   ]
  },
  {
   "cell_type": "code",
   "execution_count": 10,
   "metadata": {},
   "outputs": [],
   "source": [
    "response = requests.get(satya_nadella_url,headers = headers).json()"
   ]
  },
  {
   "cell_type": "code",
   "execution_count": 11,
   "metadata": {},
   "outputs": [
    {
     "data": {
      "text/plain": [
       "{'contactId': 15272651,\n",
       " 'firstName': 'Satya',\n",
       " 'lastName': 'Nadella',\n",
       " 'imageUrl': 'https://pbs.twimg.com/profile_images/1221837516816306177/_Ld4un5A.jpg',\n",
       " 'companyId': 726263,\n",
       " 'companyName': 'Microsoft Corporation',\n",
       " 'phone': '+*************0',\n",
       " 'twitterHandle': 'http://twitter.com/satyanadella',\n",
       " 'facebookHandle': 'https://www.facebook.com/1457604907787804',\n",
       " 'age': '54',\n",
       " 'active': True,\n",
       " 'jobLevels': ['C Level', 'Director'],\n",
       " 'jobFunctions': ['Other'],\n",
       " 'jobLevelsV2': [{'id': '1', 'name': 'C Level'},\n",
       "  {'id': '4', 'name': 'Director'}],\n",
       " 'jobFunctionsV2': [{'id': '22', 'name': 'Others'}],\n",
       " 'peopleId': 'g2HM3L31rwMFqyunfDQiZM05-Pk_15o6hbu5yjBw_B3KJdt3QKHnbHSyM9CB5_eg',\n",
       " 'fullName': 'Satya Nadella',\n",
       " 'confidenceScore': 76.55,\n",
       " 'corporatePhone': '+*************0',\n",
       " 'titles': ['Chief Executive Officer, Director'],\n",
       " 'sources': ['Web References',\n",
       "  'Social Media',\n",
       "  'InsideView',\n",
       "  'S&P Global',\n",
       "  'Community']}"
      ]
     },
     "execution_count": 11,
     "metadata": {},
     "output_type": "execute_result"
    }
   ],
   "source": [
    "response"
   ]
  },
  {
   "cell_type": "code",
   "execution_count": 12,
   "metadata": {},
   "outputs": [],
   "source": [
    "nepctf = []\n",
    "\n",
    "if('fullName' in response.keys()):\n",
    "    nepctf.append(response['fullName'])\n",
    "else:\n",
    "    nepctf.append(\"\")\n",
    "\n",
    "if('email' in response.keys()):\n",
    "    nepctf.append(response['email'])\n",
    "else:\n",
    "    nepctf.append(\"\")\n",
    "    \n",
    "if('phone' in response.keys()):\n",
    "    nepctf.append(response['phone'])\n",
    "else:\n",
    "    nepctf.append(\"\")\n",
    "    \n",
    "if('corporatePhone' in response.keys()):\n",
    "    nepctf.append(response['corporatePhone'])\n",
    "else:\n",
    "    nepctf.append(\"\")\n",
    "    \n",
    "if('twitterHandle' in response.keys()):\n",
    "    nepctf.append(response['twitterHandle'])\n",
    "else:\n",
    "    nepctf.append(\"\")\n",
    "\n",
    "if('facebookHandle' in response.keys()):\n",
    "    nepctf.append(response['facebookHandle'])\n",
    "else:\n",
    "    nepctf.append(\"\")"
   ]
  },
  {
   "cell_type": "code",
   "execution_count": 14,
   "metadata": {},
   "outputs": [
    {
     "data": {
      "text/plain": [
       "['Satya Nadella',\n",
       " '',\n",
       " '+*************0',\n",
       " '+*************0',\n",
       " 'http://twitter.com/satyanadella',\n",
       " 'https://www.facebook.com/1457604907787804']"
      ]
     },
     "execution_count": 14,
     "metadata": {},
     "output_type": "execute_result"
    }
   ],
   "source": [
    "nepctf"
   ]
  },
  {
   "cell_type": "markdown",
   "metadata": {},
   "source": [
    "### The following is code to get the contact details for all the employees in the database."
   ]
  },
  {
   "cell_type": "markdown",
   "metadata": {},
   "source": [
    "#### This is to get the name, their title and their \"newid\" value for all contacts in the Fortune1000 companies."
   ]
  },
  {
   "cell_type": "code",
   "execution_count": null,
   "metadata": {},
   "outputs": [],
   "source": [
    "contact_list_url = \"https://api.insideview.com/api/v1/target/contacts\"\n",
    "t = []\n",
    "n = []\n",
    "p = []\n",
    "\n",
    "for i in range(len(comp)):\n",
    "    title = []\n",
    "    names = []\n",
    "    people_id = []\n",
    "    \n",
    "    idx = index[i]\n",
    "    name = comp[i]\n",
    "    \n",
    "    r = requests.post(contact_list_url,headers = headers,data = {'jobLevels' : ['1'], 'companyName' : name, 'fortuneRanking' : 'fortune1000', 'resultsPerPage' : 50}).json()\n",
    "    \n",
    "    if(int(r['totalResults']) == 0):\n",
    "        t.append(title)\n",
    "        n.append(names)\n",
    "        p.append(people_id)\n",
    "        continue\n",
    "    \n",
    "    for dict in r['contacts']:\n",
    "        title.append(dict['titles'][0])\n",
    "        names.append(dict['fullName'])\n",
    "        people_id.append(dict['id'])\n",
    "\n",
    "    no = int(r['totalResults'])//50\n",
    "    \n",
    "    if(int(r['totalResults'])%50 == 0):\n",
    "        no = no - 1\n",
    "        \n",
    "    if(no == 0):\n",
    "        t.append(title)\n",
    "        n.append(names)\n",
    "        p.append(people_id)\n",
    "    else:\n",
    "        for i in range(no):\n",
    "            r = requests.post(contact_list_url,headers = headers,data = {'jobLevels' : ['1'], 'companyName' : name, 'fortuneRanking' : 'fortune1000', 'resultsPerPage' : 50, 'page' : i+2}).json()\n",
    "            for dict in r['contacts']:\n",
    "                title.append(dict['titles'][0])\n",
    "                names.append(dict['fullName'])\n",
    "                people_id.append(dict['id'])\n",
    "        \n",
    "        t.append(title)\n",
    "        n.append(names)\n",
    "        p.append(people_id)\n",
    "\n",
    "df = pd.DataFrame(list(zip(comp,t,n,p)), columns =['companyName', 'Title', 'Employees', 'InsideView Contact ID'])"
   ]
  },
  {
   "cell_type": "code",
   "execution_count": null,
   "metadata": {},
   "outputs": [],
   "source": [
    "df.to_csv(\"CSuite_with_newid.csv\")"
   ]
  },
  {
   "cell_type": "markdown",
   "metadata": {},
   "source": [
    "#### Now we use the \"newid\" value to get their email, and phone numbers."
   ]
  },
  {
   "cell_type": "code",
   "execution_count": null,
   "metadata": {},
   "outputs": [],
   "source": [
    "company_name = []\n",
    "emp_name = []\n",
    "email = []\n",
    "phone = []\n",
    "corp_phone = []\n",
    "twitter = []\n",
    "facebook = []\n",
    "\n",
    "for i in range(len(n)):\n",
    "    name_list = n[i]\n",
    "    index_list = p[i]\n",
    "    \n",
    "    for j in range(len(name_list)):\n",
    "        name = name_list[j]\n",
    "        new_contact_url = \"https://api.insideview.com/api/v1/target/contact/{}\"\n",
    "        name_url = new_contact_url.format(index_list[j])\n",
    "        response = requests.get(name_url,headers = headers).json()\n",
    "        \n",
    "        company_name.append(comp[i])\n",
    "        \n",
    "        if('fullName' in response.keys()):\n",
    "            emp_name.append(response['fullName'])\n",
    "        else:\n",
    "            emp_name.append(\"\")\n",
    "\n",
    "        if('email' in response.keys()):\n",
    "            email.append(response['email'])\n",
    "        else:\n",
    "            email.append(\"\")\n",
    "    \n",
    "        if('phone' in response.keys()):\n",
    "            phone.append(response['phone'])\n",
    "        else:\n",
    "            phone.append(\"\")\n",
    "    \n",
    "        if('corporatePhone' in response.keys()):\n",
    "            corp_phone.append(response['corporatePhone'])\n",
    "        else:\n",
    "            corp_phone.append(\"\")\n",
    "            \n",
    "        if('twitterHandle' in response.keys()):\n",
    "            twitter.append(response['twitterHandle'])\n",
    "        else:\n",
    "            twitter.append(\"\")\n",
    "\n",
    "        if('facebookHandle' in response.keys()):\n",
    "            facebook.append(response['facebookHandle'])\n",
    "        else:\n",
    "            facebook.append(\"\")\n",
    "            \n",
    "df1 = pd.DataFrame(list(zip(company_name,emp_name,email,phone,corp_phone,twitter,facebook)), columns =['companyName', 'Name', 'emailId', 'phoneNo', 'corporatePhoneNo', 'twitterHandle', 'facebookHandle'])"
   ]
  },
  {
   "cell_type": "code",
   "execution_count": null,
   "metadata": {},
   "outputs": [],
   "source": [
    "df1.to_csv(\"ContactDetailsOfEmployees.csv\")"
   ]
  },
  {
   "cell_type": "markdown",
   "metadata": {},
   "source": [
    "#### We will check if the code is correct by testing it out on a small company (I use the company with the index 944)."
   ]
  },
  {
   "cell_type": "code",
   "execution_count": 15,
   "metadata": {},
   "outputs": [],
   "source": [
    "contact_list_url = \"https://api.insideview.com/api/v1/target/contacts\"\n",
    "t = []\n",
    "n = []\n",
    "p = []\n",
    "\n",
    "for i in range(1):\n",
    "#for i in range(len(comp)):\n",
    "    i = 944\n",
    "    title = []\n",
    "    names = []\n",
    "    people_id = []\n",
    "    \n",
    "    idx = index[i]\n",
    "    name = comp[i]\n",
    "    \n",
    "    r = requests.post(contact_list_url,headers = headers,data = {'jobLevels' : ['1'], 'companyName' : name, 'fortuneRanking' : 'fortune1000', 'resultsPerPage' : 50}).json()\n",
    "    \n",
    "    if(int(r['totalResults']) == 0):\n",
    "        t.append(title)\n",
    "        n.append(names)\n",
    "        p.append(people_id)\n",
    "        continue\n",
    "    \n",
    "    for dict in r['contacts']:\n",
    "        title.append(dict['titles'][0])\n",
    "        names.append(dict['fullName'])\n",
    "        people_id.append(dict['id'])\n",
    "\n",
    "    no = int(r['totalResults'])//50\n",
    "    \n",
    "    if(int(r['totalResults'])%50 == 0):\n",
    "        no = no - 1\n",
    "        \n",
    "    if(no == 0):\n",
    "        t.append(title)\n",
    "        n.append(names)\n",
    "        p.append(people_id)\n",
    "    else:\n",
    "        for i in range(no):\n",
    "            r = requests.post(contact_list_url,headers = headers,data = {'jobLevels' : ['1'], 'companyName' : name, 'fortuneRanking' : 'fortune1000', 'resultsPerPage' : 50, 'page' : i+2}).json()\n",
    "            for dict in r['contacts']:\n",
    "                title.append(dict['titles'][0])\n",
    "                names.append(dict['fullName'])\n",
    "                people_id.append(dict['id'])\n",
    "        \n",
    "        t.append(title)\n",
    "        n.append(names)\n",
    "        p.append(people_id)\n",
    "\n",
    "df = pd.DataFrame(list(zip(comp[944],t,n,p)), columns =['companyName', 'Title', 'Employees', 'InsideView Contact ID'])"
   ]
  },
  {
   "cell_type": "code",
   "execution_count": 16,
   "metadata": {},
   "outputs": [
    {
     "data": {
      "text/html": [
       "<div>\n",
       "<style scoped>\n",
       "    .dataframe tbody tr th:only-of-type {\n",
       "        vertical-align: middle;\n",
       "    }\n",
       "\n",
       "    .dataframe tbody tr th {\n",
       "        vertical-align: top;\n",
       "    }\n",
       "\n",
       "    .dataframe thead th {\n",
       "        text-align: right;\n",
       "    }\n",
       "</style>\n",
       "<table border=\"1\" class=\"dataframe\">\n",
       "  <thead>\n",
       "    <tr style=\"text-align: right;\">\n",
       "      <th></th>\n",
       "      <th>companyName</th>\n",
       "      <th>Title</th>\n",
       "      <th>Employees</th>\n",
       "      <th>InsideView Contact ID</th>\n",
       "    </tr>\n",
       "  </thead>\n",
       "  <tbody>\n",
       "    <tr>\n",
       "      <th>0</th>\n",
       "      <td>P</td>\n",
       "      <td>[President, Chief Mortgage Banking Officer]</td>\n",
       "      <td>[Douglas Jones]</td>\n",
       "      <td>[fg6as7sZZI8FCIWhGfZN6oTJyu6-M95eWXaAZx-5cSKin...</td>\n",
       "    </tr>\n",
       "  </tbody>\n",
       "</table>\n",
       "</div>"
      ],
      "text/plain": [
       "  companyName                                        Title        Employees  \\\n",
       "0           P  [President, Chief Mortgage Banking Officer]  [Douglas Jones]   \n",
       "\n",
       "                               InsideView Contact ID  \n",
       "0  [fg6as7sZZI8FCIWhGfZN6oTJyu6-M95eWXaAZx-5cSKin...  "
      ]
     },
     "execution_count": 16,
     "metadata": {},
     "output_type": "execute_result"
    }
   ],
   "source": [
    "df"
   ]
  },
  {
   "cell_type": "code",
   "execution_count": 24,
   "metadata": {},
   "outputs": [
    {
     "data": {
      "text/plain": [
       "'PennyMac Financial Services Inc'"
      ]
     },
     "execution_count": 24,
     "metadata": {},
     "output_type": "execute_result"
    }
   ],
   "source": [
    "comp[944]"
   ]
  },
  {
   "cell_type": "code",
   "execution_count": 22,
   "metadata": {},
   "outputs": [],
   "source": [
    "company_name = []\n",
    "emp_name = []\n",
    "email = []\n",
    "phone = []\n",
    "corp_phone = []\n",
    "twitter = []\n",
    "facebook = []\n",
    "\n",
    "for i in range(len(n)):\n",
    "    name_list = n[i]\n",
    "    index_list = p[i]\n",
    "    \n",
    "    for j in range(len(name_list)):\n",
    "        name = name_list[j]\n",
    "        new_contact_url = \"https://api.insideview.com/api/v1/target/contact/{}\"\n",
    "        name_url = new_contact_url.format(index_list[j])\n",
    "        response = requests.get(name_url,headers = headers).json()\n",
    "        \n",
    "        company_name.append(comp[944])\n",
    "        \n",
    "        if('fullName' in response.keys()):\n",
    "            emp_name.append(response['fullName'])\n",
    "        else:\n",
    "            emp_name.append(\"\")\n",
    "\n",
    "        if('email' in response.keys()):\n",
    "            email.append(response['email'])\n",
    "        else:\n",
    "            email.append(\"\")\n",
    "    \n",
    "        if('phone' in response.keys()):\n",
    "            phone.append(response['phone'])\n",
    "        else:\n",
    "            phone.append(\"\")\n",
    "    \n",
    "        if('corporatePhone' in response.keys()):\n",
    "            corp_phone.append(response['corporatePhone'])\n",
    "        else:\n",
    "            corp_phone.append(\"\")\n",
    "            \n",
    "        if('twitterHandle' in response.keys()):\n",
    "            twitter.append(response['twitterHandle'])\n",
    "        else:\n",
    "            twitter.append(\"\")\n",
    "\n",
    "        if('facebookHandle' in response.keys()):\n",
    "            facebook.append(response['facebookHandle'])\n",
    "        else:\n",
    "            facebook.append(\"\")\n",
    "            \n",
    "df1 = pd.DataFrame(list(zip(company_name,emp_name,email,phone,corp_phone,twitter,facebook)), columns =['companyName', 'Name', 'emailId', 'phoneNo', 'corporatePhoneNo', 'twitterHandle', 'facebookHandle'])"
   ]
  },
  {
   "cell_type": "code",
   "execution_count": 23,
   "metadata": {},
   "outputs": [
    {
     "data": {
      "text/html": [
       "<div>\n",
       "<style scoped>\n",
       "    .dataframe tbody tr th:only-of-type {\n",
       "        vertical-align: middle;\n",
       "    }\n",
       "\n",
       "    .dataframe tbody tr th {\n",
       "        vertical-align: top;\n",
       "    }\n",
       "\n",
       "    .dataframe thead th {\n",
       "        text-align: right;\n",
       "    }\n",
       "</style>\n",
       "<table border=\"1\" class=\"dataframe\">\n",
       "  <thead>\n",
       "    <tr style=\"text-align: right;\">\n",
       "      <th></th>\n",
       "      <th>companyName</th>\n",
       "      <th>Name</th>\n",
       "      <th>emailId</th>\n",
       "      <th>phoneNo</th>\n",
       "      <th>corporatePhoneNo</th>\n",
       "      <th>twitterHandle</th>\n",
       "      <th>facebookHandle</th>\n",
       "    </tr>\n",
       "  </thead>\n",
       "  <tbody>\n",
       "    <tr>\n",
       "      <th>0</th>\n",
       "      <td>PennyMac Financial Services Inc</td>\n",
       "      <td>Douglas Jones</td>\n",
       "      <td></td>\n",
       "      <td>+*************2</td>\n",
       "      <td>+*************2</td>\n",
       "      <td></td>\n",
       "      <td></td>\n",
       "    </tr>\n",
       "  </tbody>\n",
       "</table>\n",
       "</div>"
      ],
      "text/plain": [
       "                       companyName           Name emailId          phoneNo  \\\n",
       "0  PennyMac Financial Services Inc  Douglas Jones          +*************2   \n",
       "\n",
       "  corporatePhoneNo twitterHandle facebookHandle  \n",
       "0  +*************2                               "
      ]
     },
     "execution_count": 23,
     "metadata": {},
     "output_type": "execute_result"
    }
   ],
   "source": [
    "df1"
   ]
  },
  {
   "cell_type": "code",
   "execution_count": null,
   "metadata": {},
   "outputs": [],
   "source": []
  }
 ],
 "metadata": {
  "kernelspec": {
   "display_name": "Python 3",
   "language": "python",
   "name": "python3"
  },
  "language_info": {
   "codemirror_mode": {
    "name": "ipython",
    "version": 3
   },
   "file_extension": ".py",
   "mimetype": "text/x-python",
   "name": "python",
   "nbconvert_exporter": "python",
   "pygments_lexer": "ipython3",
   "version": "3.8.3"
  }
 },
 "nbformat": 4,
 "nbformat_minor": 4
}
